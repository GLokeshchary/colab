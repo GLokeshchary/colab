{
  "nbformat": 4,
  "nbformat_minor": 0,
  "metadata": {
    "colab": {
      "name": "LANGUAGE TRANSLATOR.ipynb",
      "provenance": []
    },
    "kernelspec": {
      "name": "python3",
      "display_name": "Python 3"
    },
    "language_info": {
      "name": "python"
    }
  },
  "cells": [
    {
      "cell_type": "markdown",
      "metadata": {
        "id": "_kI4ozx5UD2y"
      },
      "source": [
        "# **IMPORT LIBRARIES**"
      ]
    },
    {
      "cell_type": "code",
      "metadata": {
        "id": "q1vAmuF4JXba"
      },
      "source": [
        "import numpy as np\n",
        "import tensorflow as tf\n",
        "from tensorflow import keras"
      ],
      "execution_count": null,
      "outputs": []
    },
    {
      "cell_type": "markdown",
      "metadata": {
        "id": "4jpN0pl0UUKO"
      },
      "source": [
        "# Configuration"
      ]
    },
    {
      "cell_type": "code",
      "metadata": {
        "id": "qHtg1B3CRoWz"
      },
      "source": [
        "batch_size = 64  # Batch size for training.\n",
        "epochs = 100  # Number of epochs to train for.\n",
        "latent_dim = 256  # Latent dimensionality of the encoding space.\n",
        "num_samples = 10000  # Number of samples to train on.\n",
        "# Path to the data txt file on disk.\n",
        "data_path = \"/content/fra.txt\""
      ],
      "execution_count": null,
      "outputs": []
    },
    {
      "cell_type": "markdown",
      "metadata": {
        "id": "byNfj16VUjPJ"
      },
      "source": [
        "# **DATA PREPROCESSING**"
      ]
    },
    {
      "cell_type": "code",
      "metadata": {
        "id": "0M9dqZ9dR9hf"
      },
      "source": [
        "input_texts = []\n",
        "target_texts = []\n",
        "input_characters = set()\n",
        "target_characters = set()\n",
        "with open(data_path, \"r\", encoding=\"utf-8\") as f:\n",
        "    lines = f.read().split(\"\\n\")\n",
        "for line in lines[: min(num_samples, len(lines) - 1)]:\n",
        "    input_text, target_text, _ = line.split(\"\\t\")\n",
        "    # We use \"tab\" as the \"start sequence\" character\n",
        "    # for the targets, and \"\\n\" as \"end sequence\" character.\n",
        "    target_text = \"\\t\" + target_text + \"\\n\"\n",
        "    input_texts.append(input_text)\n",
        "    target_texts.append(target_text)\n",
        "    for char in input_text:\n",
        "        if char not in input_characters:\n",
        "            input_characters.add(char)\n",
        "    for char in target_text:\n",
        "        if char not in target_characters:\n",
        "            target_characters.add(char)"
      ],
      "execution_count": null,
      "outputs": []
    },
    {
      "cell_type": "code",
      "metadata": {
        "colab": {
          "base_uri": "https://localhost:8080/"
        },
        "id": "FxE5_GFYUMk6",
        "outputId": "c60156c4-d1a5-4a19-c0a2-1531d76085d6"
      },
      "source": [
        "#print(input_texts)\n",
        "#print(target_texts)\n",
        "print(input_characters)"
      ],
      "execution_count": null,
      "outputs": [
        {
          "output_type": "stream",
          "name": "stdout",
          "text": [
            "{'u', 'i', 'S', 't', 'g', 'h', 'w', 'r', 'A', '?', ':', 'V', 'J', 'j', 'K', '.', '%', 'E', 'F', 'z', 'R', 'l', 'U', 'p', 'é', 'M', '&', '7', '2', 'L', 'a', 'c', 'I', 'T', '$', \"'\", '\"', 'Q', '!', 'C', ',', 'x', 'n', 'd', '0', 'N', 'k', 'q', '8', 'Y', '3', 's', '1', 'H', 'y', 'O', 'W', 'B', ' ', 'P', 'v', '9', 'G', 'b', 'D', '-', 'm', 'o', 'f', 'e', '5'}\n"
          ]
        }
      ]
    },
    {
      "cell_type": "markdown",
      "metadata": {
        "id": "_eluqnDdVDHx"
      },
      "source": [
        "finding no of input and output characters,length of characters,maximum length for enconder and decoder"
      ]
    },
    {
      "cell_type": "code",
      "metadata": {
        "id": "xzuZrDRISF5X"
      },
      "source": [
        "input_characters = sorted(list(input_characters))\n",
        "target_characters = sorted(list(target_characters))\n",
        "num_encoder_tokens = len(input_characters)\n",
        "num_decoder_tokens = len(target_characters)\n",
        "max_encoder_seq_length = max([len(txt) for txt in input_texts])\n",
        "max_decoder_seq_length = max([len(txt) for txt in target_texts])"
      ],
      "execution_count": null,
      "outputs": []
    },
    {
      "cell_type": "code",
      "metadata": {
        "colab": {
          "base_uri": "https://localhost:8080/"
        },
        "id": "msMCIIUHSMA0",
        "outputId": "23f79866-2a95-4363-f169-6aae868fe982"
      },
      "source": [
        "print(\"Number of samples:\", len(input_texts))\n",
        "print(\"Number of unique input tokens:\", num_encoder_tokens)\n",
        "print(\"Number of unique output tokens:\", num_decoder_tokens)\n",
        "print(\"Max sequence length for inputs:\", max_encoder_seq_length)\n",
        "print(\"Max sequence length for outputs:\", max_decoder_seq_length)"
      ],
      "execution_count": null,
      "outputs": [
        {
          "output_type": "stream",
          "name": "stdout",
          "text": [
            "Number of samples: 10000\n",
            "Number of unique input tokens: 71\n",
            "Number of unique output tokens: 92\n",
            "Max sequence length for inputs: 15\n",
            "Max sequence length for outputs: 59\n"
          ]
        }
      ]
    },
    {
      "cell_type": "markdown",
      "metadata": {
        "id": "x8SuqYuGVm3R"
      },
      "source": [
        "converting characters to numbers for better understanding"
      ]
    },
    {
      "cell_type": "code",
      "metadata": {
        "id": "uUg_g0cVSQ36"
      },
      "source": [
        "input_token_index = dict([(char, i) for i, char in enumerate(input_characters)])\n",
        "target_token_index = dict([(char, i) for i, char in enumerate(target_characters)])"
      ],
      "execution_count": null,
      "outputs": []
    },
    {
      "cell_type": "code",
      "metadata": {
        "id": "yXUSRf8ZSfqy"
      },
      "source": [
        "encoder_input_data = np.zeros(\n",
        "    (len(input_texts), max_encoder_seq_length, num_encoder_tokens), dtype=\"float32\"\n",
        ")\n",
        "decoder_input_data = np.zeros(\n",
        "    (len(input_texts), max_decoder_seq_length, num_decoder_tokens), dtype=\"float32\"\n",
        ")\n",
        "decoder_target_data = np.zeros(\n",
        "    (len(input_texts), max_decoder_seq_length, num_decoder_tokens), dtype=\"float32\"\n",
        ")"
      ],
      "execution_count": null,
      "outputs": []
    },
    {
      "cell_type": "markdown",
      "metadata": {
        "id": "jOGl03VMWrnM"
      },
      "source": [
        "# **ONE HOT ENCODING**"
      ]
    },
    {
      "cell_type": "code",
      "metadata": {
        "id": "VRT5EVJpSki7"
      },
      "source": [
        "for i, (input_text, target_text) in enumerate(zip(input_texts, target_texts)):\n",
        "    for t, char in enumerate(input_text):\n",
        "        encoder_input_data[i, t, input_token_index[char]] = 1.0\n",
        "    encoder_input_data[i, t + 1 :, input_token_index[\" \"]] = 1.0\n",
        "    for t, char in enumerate(target_text):\n",
        "        # decoder_target_data is ahead of decoder_input_data by one timestep\n",
        "        decoder_input_data[i, t, target_token_index[char]] = 1.0\n",
        "        if t > 0:\n",
        "            # decoder_target_data will be ahead by one timestep\n",
        "            # and will not include the start character.\n",
        "            decoder_target_data[i, t - 1, target_token_index[char]] = 1.0\n",
        "    decoder_input_data[i, t + 1 :, target_token_index[\" \"]] = 1.0\n",
        "    decoder_target_data[i, t:, target_token_index[\" \"]] = 1.0"
      ],
      "execution_count": null,
      "outputs": []
    },
    {
      "cell_type": "markdown",
      "metadata": {
        "id": "vew41_9xW_L1"
      },
      "source": [
        "# **BULIDING THE MODEL**"
      ]
    },
    {
      "cell_type": "code",
      "metadata": {
        "id": "ONepWNQ_S0yh"
      },
      "source": [
        "# Define an input sequence and process it.\n",
        "encoder_inputs = keras.Input(shape=(None, num_encoder_tokens))\n",
        "encoder = keras.layers.LSTM(latent_dim, return_state=True)\n",
        "encoder_outputs, state_h, state_c = encoder(encoder_inputs)\n",
        "\n",
        "# We discard `encoder_outputs` and only keep the states.\n",
        "encoder_states = [state_h, state_c]"
      ],
      "execution_count": null,
      "outputs": []
    },
    {
      "cell_type": "code",
      "metadata": {
        "id": "umxGrk-FS08c"
      },
      "source": [
        "# Set up the decoder, using `encoder_states` as initial state.\n",
        "decoder_inputs = keras.Input(shape=(None, num_decoder_tokens))\n",
        "\n",
        "# We set up our decoder to return full output sequences,\n",
        "# and to return internal states as well. We don't use the\n",
        "# return states in the training model, but we will use them in inference.\n",
        "decoder_lstm = keras.layers.LSTM(latent_dim, return_sequences=True, return_state=True)\n",
        "decoder_outputs, _, _ = decoder_lstm(decoder_inputs, initial_state=encoder_states)\n",
        "decoder_dense = keras.layers.Dense(num_decoder_tokens, activation=\"softmax\")\n",
        "decoder_outputs = decoder_dense(decoder_outputs)\n",
        "\n",
        "# Define the model that will turn\n",
        "# `encoder_input_data` & `decoder_input_data` into `decoder_target_data`\n",
        "model = keras.Model([encoder_inputs, decoder_inputs], decoder_outputs)"
      ],
      "execution_count": null,
      "outputs": []
    },
    {
      "cell_type": "markdown",
      "metadata": {
        "id": "ar9EHZWCXIyY"
      },
      "source": [
        "# **TRAIN THE MODEL**"
      ]
    },
    {
      "cell_type": "code",
      "metadata": {
        "colab": {
          "base_uri": "https://localhost:8080/"
        },
        "id": "A1gl_AclS1Wa",
        "outputId": "28e40bcf-3f95-472a-e3b8-0446232fef8e"
      },
      "source": [
        "model.compile(\n",
        "    optimizer=\"rmsprop\", loss=\"categorical_crossentropy\", metrics=[\"accuracy\"]\n",
        ")\n",
        "model.fit(\n",
        "    [encoder_input_data, decoder_input_data],\n",
        "    decoder_target_data,\n",
        "    batch_size=batch_size,\n",
        "    epochs=epochs,\n",
        "    validation_split=0.2,\n",
        ")\n",
        "# Save model\n",
        "model.save(\"s2s\")"
      ],
      "execution_count": null,
      "outputs": [
        {
          "output_type": "stream",
          "name": "stdout",
          "text": [
            "Epoch 1/100\n",
            "125/125 [==============================] - 59s 440ms/step - loss: 1.1459 - accuracy: 0.7372 - val_loss: 1.0328 - val_accuracy: 0.7123\n",
            "Epoch 2/100\n",
            "125/125 [==============================] - 53s 422ms/step - loss: 0.8132 - accuracy: 0.7792 - val_loss: 0.8234 - val_accuracy: 0.7727\n",
            "Epoch 3/100\n",
            "125/125 [==============================] - 53s 425ms/step - loss: 0.6637 - accuracy: 0.8127 - val_loss: 0.6916 - val_accuracy: 0.8024\n",
            "Epoch 4/100\n",
            "125/125 [==============================] - 53s 421ms/step - loss: 0.5736 - accuracy: 0.8337 - val_loss: 0.6367 - val_accuracy: 0.8148\n",
            "Epoch 5/100\n",
            "125/125 [==============================] - 53s 425ms/step - loss: 0.5267 - accuracy: 0.8456 - val_loss: 0.5972 - val_accuracy: 0.8248\n",
            "Epoch 6/100\n",
            "125/125 [==============================] - 53s 422ms/step - loss: 0.4912 - accuracy: 0.8558 - val_loss: 0.5561 - val_accuracy: 0.8371\n",
            "Epoch 7/100\n",
            "125/125 [==============================] - 52s 418ms/step - loss: 0.4625 - accuracy: 0.8630 - val_loss: 0.5356 - val_accuracy: 0.8424\n",
            "Epoch 8/100\n",
            "125/125 [==============================] - 53s 422ms/step - loss: 0.4394 - accuracy: 0.8691 - val_loss: 0.5216 - val_accuracy: 0.8465\n",
            "Epoch 9/100\n",
            "125/125 [==============================] - 53s 421ms/step - loss: 0.4191 - accuracy: 0.8749 - val_loss: 0.5047 - val_accuracy: 0.8507\n",
            "Epoch 10/100\n",
            "125/125 [==============================] - 52s 417ms/step - loss: 0.4008 - accuracy: 0.8801 - val_loss: 0.4916 - val_accuracy: 0.8553\n",
            "Epoch 11/100\n",
            "125/125 [==============================] - 53s 421ms/step - loss: 0.3834 - accuracy: 0.8852 - val_loss: 0.4837 - val_accuracy: 0.8570\n",
            "Epoch 12/100\n",
            "125/125 [==============================] - 52s 417ms/step - loss: 0.3680 - accuracy: 0.8895 - val_loss: 0.4776 - val_accuracy: 0.8596\n",
            "Epoch 13/100\n",
            "125/125 [==============================] - 52s 416ms/step - loss: 0.3535 - accuracy: 0.8940 - val_loss: 0.4665 - val_accuracy: 0.8626\n",
            "Epoch 14/100\n",
            "125/125 [==============================] - 52s 418ms/step - loss: 0.3396 - accuracy: 0.8979 - val_loss: 0.4662 - val_accuracy: 0.8636\n",
            "Epoch 15/100\n",
            "125/125 [==============================] - 55s 438ms/step - loss: 0.3268 - accuracy: 0.9020 - val_loss: 0.4554 - val_accuracy: 0.8666\n",
            "Epoch 16/100\n",
            "125/125 [==============================] - 53s 427ms/step - loss: 0.3139 - accuracy: 0.9058 - val_loss: 0.4534 - val_accuracy: 0.8679\n",
            "Epoch 17/100\n",
            "125/125 [==============================] - 54s 432ms/step - loss: 0.3024 - accuracy: 0.9092 - val_loss: 0.4511 - val_accuracy: 0.8693\n",
            "Epoch 18/100\n",
            "125/125 [==============================] - 53s 425ms/step - loss: 0.2917 - accuracy: 0.9121 - val_loss: 0.4484 - val_accuracy: 0.8706\n",
            "Epoch 19/100\n",
            "125/125 [==============================] - 54s 431ms/step - loss: 0.2813 - accuracy: 0.9151 - val_loss: 0.4466 - val_accuracy: 0.8708\n",
            "Epoch 20/100\n",
            "125/125 [==============================] - 53s 426ms/step - loss: 0.2710 - accuracy: 0.9183 - val_loss: 0.4501 - val_accuracy: 0.8709\n",
            "Epoch 21/100\n",
            "125/125 [==============================] - 53s 423ms/step - loss: 0.2615 - accuracy: 0.9209 - val_loss: 0.4489 - val_accuracy: 0.8715\n",
            "Epoch 22/100\n",
            "125/125 [==============================] - 53s 427ms/step - loss: 0.2523 - accuracy: 0.9236 - val_loss: 0.4477 - val_accuracy: 0.8725\n",
            "Epoch 23/100\n",
            "125/125 [==============================] - 53s 424ms/step - loss: 0.2438 - accuracy: 0.9263 - val_loss: 0.4459 - val_accuracy: 0.8733\n",
            "Epoch 24/100\n",
            "125/125 [==============================] - 53s 420ms/step - loss: 0.2356 - accuracy: 0.9287 - val_loss: 0.4519 - val_accuracy: 0.8738\n",
            "Epoch 25/100\n",
            "125/125 [==============================] - 53s 425ms/step - loss: 0.2273 - accuracy: 0.9309 - val_loss: 0.4498 - val_accuracy: 0.8739\n",
            "Epoch 26/100\n",
            "125/125 [==============================] - 54s 428ms/step - loss: 0.2200 - accuracy: 0.9333 - val_loss: 0.4517 - val_accuracy: 0.8752\n",
            "Epoch 27/100\n",
            "125/125 [==============================] - 54s 431ms/step - loss: 0.2128 - accuracy: 0.9353 - val_loss: 0.4593 - val_accuracy: 0.8742\n",
            "Epoch 28/100\n",
            "125/125 [==============================] - 53s 427ms/step - loss: 0.2058 - accuracy: 0.9376 - val_loss: 0.4618 - val_accuracy: 0.8743\n",
            "Epoch 29/100\n",
            "125/125 [==============================] - 54s 431ms/step - loss: 0.1991 - accuracy: 0.9392 - val_loss: 0.4624 - val_accuracy: 0.8748\n",
            "Epoch 30/100\n",
            "125/125 [==============================] - 54s 434ms/step - loss: 0.1927 - accuracy: 0.9412 - val_loss: 0.4690 - val_accuracy: 0.8742\n",
            "Epoch 31/100\n",
            "125/125 [==============================] - 54s 431ms/step - loss: 0.1869 - accuracy: 0.9429 - val_loss: 0.4701 - val_accuracy: 0.8747\n",
            "Epoch 32/100\n",
            "125/125 [==============================] - 53s 425ms/step - loss: 0.1810 - accuracy: 0.9448 - val_loss: 0.4757 - val_accuracy: 0.8749\n",
            "Epoch 33/100\n",
            "125/125 [==============================] - 54s 431ms/step - loss: 0.1755 - accuracy: 0.9465 - val_loss: 0.4807 - val_accuracy: 0.8734\n",
            "Epoch 34/100\n",
            "125/125 [==============================] - 53s 424ms/step - loss: 0.1702 - accuracy: 0.9480 - val_loss: 0.4890 - val_accuracy: 0.8736\n",
            "Epoch 35/100\n",
            "125/125 [==============================] - 55s 438ms/step - loss: 0.1652 - accuracy: 0.9494 - val_loss: 0.4853 - val_accuracy: 0.8741\n",
            "Epoch 36/100\n",
            "125/125 [==============================] - 54s 432ms/step - loss: 0.1605 - accuracy: 0.9508 - val_loss: 0.4952 - val_accuracy: 0.8735\n",
            "Epoch 37/100\n",
            "125/125 [==============================] - 55s 441ms/step - loss: 0.1561 - accuracy: 0.9520 - val_loss: 0.4992 - val_accuracy: 0.8732\n",
            "Epoch 38/100\n",
            "125/125 [==============================] - 59s 469ms/step - loss: 0.1516 - accuracy: 0.9534 - val_loss: 0.5028 - val_accuracy: 0.8740\n",
            "Epoch 39/100\n",
            "125/125 [==============================] - 59s 472ms/step - loss: 0.1472 - accuracy: 0.9547 - val_loss: 0.5023 - val_accuracy: 0.8740\n",
            "Epoch 40/100\n",
            "125/125 [==============================] - 56s 448ms/step - loss: 0.1430 - accuracy: 0.9561 - val_loss: 0.5088 - val_accuracy: 0.8749\n",
            "Epoch 41/100\n",
            "125/125 [==============================] - 56s 447ms/step - loss: 0.1392 - accuracy: 0.9570 - val_loss: 0.5131 - val_accuracy: 0.8741\n",
            "Epoch 42/100\n",
            "125/125 [==============================] - 57s 453ms/step - loss: 0.1350 - accuracy: 0.9584 - val_loss: 0.5227 - val_accuracy: 0.8747\n",
            "Epoch 43/100\n",
            "125/125 [==============================] - 56s 447ms/step - loss: 0.1317 - accuracy: 0.9593 - val_loss: 0.5231 - val_accuracy: 0.8747\n",
            "Epoch 44/100\n",
            "125/125 [==============================] - 55s 442ms/step - loss: 0.1284 - accuracy: 0.9603 - val_loss: 0.5329 - val_accuracy: 0.8733\n",
            "Epoch 45/100\n",
            "125/125 [==============================] - 53s 427ms/step - loss: 0.1250 - accuracy: 0.9613 - val_loss: 0.5327 - val_accuracy: 0.8745\n",
            "Epoch 46/100\n",
            "125/125 [==============================] - 54s 429ms/step - loss: 0.1217 - accuracy: 0.9622 - val_loss: 0.5369 - val_accuracy: 0.8735\n",
            "Epoch 47/100\n",
            "125/125 [==============================] - 54s 433ms/step - loss: 0.1185 - accuracy: 0.9633 - val_loss: 0.5455 - val_accuracy: 0.8728\n",
            "Epoch 48/100\n",
            "125/125 [==============================] - 55s 437ms/step - loss: 0.1157 - accuracy: 0.9641 - val_loss: 0.5508 - val_accuracy: 0.8728\n",
            "Epoch 49/100\n",
            "125/125 [==============================] - 54s 431ms/step - loss: 0.1130 - accuracy: 0.9646 - val_loss: 0.5527 - val_accuracy: 0.8745\n",
            "Epoch 50/100\n",
            "125/125 [==============================] - 54s 434ms/step - loss: 0.1102 - accuracy: 0.9654 - val_loss: 0.5581 - val_accuracy: 0.8728\n",
            "Epoch 51/100\n",
            "125/125 [==============================] - 54s 435ms/step - loss: 0.1073 - accuracy: 0.9664 - val_loss: 0.5634 - val_accuracy: 0.8738\n",
            "Epoch 52/100\n",
            "125/125 [==============================] - 55s 444ms/step - loss: 0.1051 - accuracy: 0.9669 - val_loss: 0.5760 - val_accuracy: 0.8729\n",
            "Epoch 53/100\n",
            "125/125 [==============================] - 55s 439ms/step - loss: 0.1024 - accuracy: 0.9678 - val_loss: 0.5733 - val_accuracy: 0.8727\n",
            "Epoch 54/100\n",
            "125/125 [==============================] - 54s 434ms/step - loss: 0.1005 - accuracy: 0.9684 - val_loss: 0.5766 - val_accuracy: 0.8736\n",
            "Epoch 55/100\n",
            "125/125 [==============================] - 55s 443ms/step - loss: 0.0978 - accuracy: 0.9690 - val_loss: 0.5849 - val_accuracy: 0.8729\n",
            "Epoch 56/100\n",
            "125/125 [==============================] - 60s 478ms/step - loss: 0.0960 - accuracy: 0.9696 - val_loss: 0.5884 - val_accuracy: 0.8718\n",
            "Epoch 57/100\n",
            "125/125 [==============================] - 57s 459ms/step - loss: 0.0937 - accuracy: 0.9700 - val_loss: 0.5909 - val_accuracy: 0.8723\n",
            "Epoch 58/100\n",
            "125/125 [==============================] - 55s 439ms/step - loss: 0.0920 - accuracy: 0.9706 - val_loss: 0.5968 - val_accuracy: 0.8723\n",
            "Epoch 59/100\n",
            "125/125 [==============================] - 61s 489ms/step - loss: 0.0896 - accuracy: 0.9715 - val_loss: 0.6022 - val_accuracy: 0.8720\n",
            "Epoch 60/100\n",
            "125/125 [==============================] - 58s 466ms/step - loss: 0.0880 - accuracy: 0.9720 - val_loss: 0.6110 - val_accuracy: 0.8721\n",
            "Epoch 61/100\n",
            "125/125 [==============================] - 58s 467ms/step - loss: 0.0860 - accuracy: 0.9724 - val_loss: 0.6147 - val_accuracy: 0.8715\n",
            "Epoch 62/100\n",
            "125/125 [==============================] - 63s 507ms/step - loss: 0.0845 - accuracy: 0.9727 - val_loss: 0.6154 - val_accuracy: 0.8715\n",
            "Epoch 63/100\n",
            "125/125 [==============================] - 53s 425ms/step - loss: 0.0830 - accuracy: 0.9733 - val_loss: 0.6185 - val_accuracy: 0.8729\n",
            "Epoch 64/100\n",
            "125/125 [==============================] - 52s 419ms/step - loss: 0.0812 - accuracy: 0.9738 - val_loss: 0.6292 - val_accuracy: 0.8721\n",
            "Epoch 65/100\n",
            "125/125 [==============================] - 52s 417ms/step - loss: 0.0795 - accuracy: 0.9743 - val_loss: 0.6276 - val_accuracy: 0.8719\n",
            "Epoch 66/100\n",
            "125/125 [==============================] - 52s 416ms/step - loss: 0.0781 - accuracy: 0.9747 - val_loss: 0.6386 - val_accuracy: 0.8723\n",
            "Epoch 67/100\n",
            "125/125 [==============================] - 52s 417ms/step - loss: 0.0765 - accuracy: 0.9751 - val_loss: 0.6393 - val_accuracy: 0.8708\n",
            "Epoch 68/100\n",
            "125/125 [==============================] - 52s 419ms/step - loss: 0.0754 - accuracy: 0.9753 - val_loss: 0.6480 - val_accuracy: 0.8710\n",
            "Epoch 69/100\n",
            "125/125 [==============================] - 52s 420ms/step - loss: 0.0738 - accuracy: 0.9759 - val_loss: 0.6514 - val_accuracy: 0.8701\n",
            "Epoch 70/100\n",
            "125/125 [==============================] - 52s 413ms/step - loss: 0.0726 - accuracy: 0.9762 - val_loss: 0.6522 - val_accuracy: 0.8713\n",
            "Epoch 71/100\n",
            "125/125 [==============================] - 53s 421ms/step - loss: 0.0714 - accuracy: 0.9765 - val_loss: 0.6572 - val_accuracy: 0.8702\n",
            "Epoch 72/100\n",
            "125/125 [==============================] - 53s 423ms/step - loss: 0.0697 - accuracy: 0.9770 - val_loss: 0.6638 - val_accuracy: 0.8709\n",
            "Epoch 73/100\n",
            "125/125 [==============================] - 53s 422ms/step - loss: 0.0687 - accuracy: 0.9773 - val_loss: 0.6618 - val_accuracy: 0.8711\n",
            "Epoch 74/100\n",
            "125/125 [==============================] - 52s 417ms/step - loss: 0.0676 - accuracy: 0.9774 - val_loss: 0.6691 - val_accuracy: 0.8710\n",
            "Epoch 75/100\n",
            "125/125 [==============================] - 51s 411ms/step - loss: 0.0664 - accuracy: 0.9778 - val_loss: 0.6762 - val_accuracy: 0.8712\n",
            "Epoch 76/100\n",
            "125/125 [==============================] - 51s 409ms/step - loss: 0.0655 - accuracy: 0.9780 - val_loss: 0.6767 - val_accuracy: 0.8705\n",
            "Epoch 77/100\n",
            "125/125 [==============================] - 51s 410ms/step - loss: 0.0644 - accuracy: 0.9783 - val_loss: 0.6768 - val_accuracy: 0.8705\n",
            "Epoch 78/100\n",
            "125/125 [==============================] - 51s 410ms/step - loss: 0.0632 - accuracy: 0.9787 - val_loss: 0.6908 - val_accuracy: 0.8699\n",
            "Epoch 79/100\n",
            "125/125 [==============================] - 51s 411ms/step - loss: 0.0622 - accuracy: 0.9789 - val_loss: 0.6879 - val_accuracy: 0.8705\n",
            "Epoch 80/100\n",
            "125/125 [==============================] - 51s 410ms/step - loss: 0.0615 - accuracy: 0.9794 - val_loss: 0.6953 - val_accuracy: 0.8707\n",
            "Epoch 81/100\n",
            "125/125 [==============================] - 51s 410ms/step - loss: 0.0600 - accuracy: 0.9796 - val_loss: 0.7029 - val_accuracy: 0.8695\n",
            "Epoch 82/100\n",
            "125/125 [==============================] - 51s 410ms/step - loss: 0.0595 - accuracy: 0.9799 - val_loss: 0.6976 - val_accuracy: 0.8706\n",
            "Epoch 83/100\n",
            "125/125 [==============================] - 52s 413ms/step - loss: 0.0586 - accuracy: 0.9801 - val_loss: 0.7056 - val_accuracy: 0.8699\n",
            "Epoch 84/100\n",
            "125/125 [==============================] - 51s 412ms/step - loss: 0.0576 - accuracy: 0.9803 - val_loss: 0.7098 - val_accuracy: 0.8703\n",
            "Epoch 85/100\n",
            "125/125 [==============================] - 52s 414ms/step - loss: 0.0567 - accuracy: 0.9807 - val_loss: 0.7114 - val_accuracy: 0.8701\n",
            "Epoch 86/100\n",
            "125/125 [==============================] - 52s 417ms/step - loss: 0.0563 - accuracy: 0.9807 - val_loss: 0.7175 - val_accuracy: 0.8700\n",
            "Epoch 87/100\n",
            "125/125 [==============================] - 51s 412ms/step - loss: 0.0550 - accuracy: 0.9810 - val_loss: 0.7180 - val_accuracy: 0.8700\n",
            "Epoch 88/100\n",
            "125/125 [==============================] - 52s 413ms/step - loss: 0.0543 - accuracy: 0.9811 - val_loss: 0.7217 - val_accuracy: 0.8695\n",
            "Epoch 89/100\n",
            "125/125 [==============================] - 52s 413ms/step - loss: 0.0535 - accuracy: 0.9814 - val_loss: 0.7276 - val_accuracy: 0.8706\n",
            "Epoch 90/100\n",
            "125/125 [==============================] - 52s 416ms/step - loss: 0.0528 - accuracy: 0.9816 - val_loss: 0.7282 - val_accuracy: 0.8702\n",
            "Epoch 91/100\n",
            "125/125 [==============================] - 52s 418ms/step - loss: 0.0523 - accuracy: 0.9818 - val_loss: 0.7309 - val_accuracy: 0.8697\n",
            "Epoch 92/100\n",
            "125/125 [==============================] - 52s 416ms/step - loss: 0.0515 - accuracy: 0.9820 - val_loss: 0.7342 - val_accuracy: 0.8700\n",
            "Epoch 93/100\n",
            "125/125 [==============================] - 53s 422ms/step - loss: 0.0508 - accuracy: 0.9821 - val_loss: 0.7406 - val_accuracy: 0.8695\n",
            "Epoch 94/100\n",
            "125/125 [==============================] - 52s 417ms/step - loss: 0.0501 - accuracy: 0.9824 - val_loss: 0.7380 - val_accuracy: 0.8700\n",
            "Epoch 95/100\n",
            "125/125 [==============================] - 52s 415ms/step - loss: 0.0496 - accuracy: 0.9824 - val_loss: 0.7448 - val_accuracy: 0.8700\n",
            "Epoch 96/100\n",
            "125/125 [==============================] - 52s 414ms/step - loss: 0.0490 - accuracy: 0.9827 - val_loss: 0.7507 - val_accuracy: 0.8691\n",
            "Epoch 97/100\n",
            "125/125 [==============================] - 52s 413ms/step - loss: 0.0484 - accuracy: 0.9829 - val_loss: 0.7418 - val_accuracy: 0.8698\n",
            "Epoch 98/100\n",
            "125/125 [==============================] - 51s 412ms/step - loss: 0.0477 - accuracy: 0.9831 - val_loss: 0.7538 - val_accuracy: 0.8697\n",
            "Epoch 99/100\n",
            "125/125 [==============================] - 52s 413ms/step - loss: 0.0474 - accuracy: 0.9831 - val_loss: 0.7554 - val_accuracy: 0.8689\n",
            "Epoch 100/100\n",
            "125/125 [==============================] - 52s 415ms/step - loss: 0.0465 - accuracy: 0.9834 - val_loss: 0.7610 - val_accuracy: 0.8685\n"
          ]
        },
        {
          "output_type": "stream",
          "name": "stderr",
          "text": [
            "WARNING:absl:Found untraced functions such as lstm_cell_layer_call_fn, lstm_cell_layer_call_and_return_conditional_losses, lstm_cell_1_layer_call_fn, lstm_cell_1_layer_call_and_return_conditional_losses, lstm_cell_layer_call_fn while saving (showing 5 of 10). These functions will not be directly callable after loading.\n"
          ]
        },
        {
          "output_type": "stream",
          "name": "stdout",
          "text": [
            "INFO:tensorflow:Assets written to: s2s/assets\n"
          ]
        },
        {
          "output_type": "stream",
          "name": "stderr",
          "text": [
            "INFO:tensorflow:Assets written to: s2s/assets\n",
            "WARNING:absl:<keras.layers.recurrent.LSTMCell object at 0x7ff344ee5e10> has the same name 'LSTMCell' as a built-in Keras object. Consider renaming <class 'keras.layers.recurrent.LSTMCell'> to avoid naming conflicts when loading with `tf.keras.models.load_model`. If renaming is not possible, pass the object in the `custom_objects` parameter of the load function.\n",
            "WARNING:absl:<keras.layers.recurrent.LSTMCell object at 0x7ff33eeb0f50> has the same name 'LSTMCell' as a built-in Keras object. Consider renaming <class 'keras.layers.recurrent.LSTMCell'> to avoid naming conflicts when loading with `tf.keras.models.load_model`. If renaming is not possible, pass the object in the `custom_objects` parameter of the load function.\n"
          ]
        }
      ]
    },
    {
      "cell_type": "code",
      "metadata": {
        "id": "rA9jjJm6S1e9"
      },
      "source": [
        "model = keras.models.load_model(\"s2s\")\n",
        "\n",
        "encoder_inputs = model.input[0]  # input_1\n",
        "encoder_outputs, state_h_enc, state_c_enc = model.layers[2].output  # lstm_1\n",
        "encoder_states = [state_h_enc, state_c_enc]\n",
        "encoder_model = keras.Model(encoder_inputs, encoder_states)\n",
        "\n",
        "decoder_inputs = model.input[1]  # input_2\n",
        "decoder_state_input_h = keras.Input(shape=(latent_dim,))\n",
        "decoder_state_input_c = keras.Input(shape=(latent_dim,))\n",
        "decoder_states_inputs = [decoder_state_input_h, decoder_state_input_c]\n",
        "decoder_lstm = model.layers[3]\n",
        "decoder_outputs, state_h_dec, state_c_dec = decoder_lstm(\n",
        "    decoder_inputs, initial_state=decoder_states_inputs\n",
        ")\n",
        "decoder_states = [state_h_dec, state_c_dec]\n",
        "decoder_dense = model.layers[4]\n",
        "decoder_outputs = decoder_dense(decoder_outputs)\n",
        "decoder_model = keras.Model(\n",
        "    [decoder_inputs] + decoder_states_inputs, [decoder_outputs] + decoder_states\n",
        ")\n",
        "\n",
        "# Reverse-lookup token index to decode sequences back to\n",
        "# something readable.\n",
        "reverse_input_char_index = dict((i, char) for char, i in input_token_index.items())\n",
        "reverse_target_char_index = dict((i, char) for char, i in target_token_index.items())\n",
        "\n",
        "\n",
        "def decode_sequence(input_seq):\n",
        "    # Encode the input as state vectors.\n",
        "    states_value = encoder_model.predict(input_seq)\n",
        "\n",
        "    # Generate empty target sequence of length 1.\n",
        "    target_seq = np.zeros((1, 1, num_decoder_tokens))\n",
        "    # Populate the first character of target sequence with the start character.\n",
        "    target_seq[0, 0, target_token_index[\"\\t\"]] = 1.0\n",
        "\n",
        "    # Sampling loop for a batch of sequences\n",
        "    # (to simplify, here we assume a batch of size 1).\n",
        "    stop_condition = False\n",
        "    decoded_sentence = \"\"\n",
        "    while not stop_condition:\n",
        "        output_tokens, h, c = decoder_model.predict([target_seq] + states_value)\n",
        "\n",
        "        # Sample a token\n",
        "        sampled_token_index = np.argmax(output_tokens[0, -1, :])\n",
        "        sampled_char = reverse_target_char_index[sampled_token_index]\n",
        "        decoded_sentence += sampled_char\n",
        "\n",
        "        # Exit condition: either hit max length\n",
        "        # or find stop character.\n",
        "        if sampled_char == \"\\n\" or len(decoded_sentence) > max_decoder_seq_length:\n",
        "            stop_condition = True\n",
        "\n",
        "        # Update the target sequence (of length 1).\n",
        "        target_seq = np.zeros((1, 1, num_decoder_tokens))\n",
        "        target_seq[0, 0, sampled_token_index] = 1.0\n",
        "\n",
        "        # Update states\n",
        "        states_value = [h, c]\n",
        "    return decoded_sentence"
      ],
      "execution_count": null,
      "outputs": []
    },
    {
      "cell_type": "code",
      "metadata": {
        "id": "dCicff1rop3d"
      },
      "source": [
        "for seq_index in range(20):\n",
        "    # Take one sequence (part of the training set)\n",
        "    # for trying out decoding.\n",
        "    input_seq = encoder_input_data[seq_index : seq_index + 1]\n",
        "    decoded_sentence = decode_sequence(input_seq)\n",
        "    print(\"-\")\n",
        "    print(\"Input sentence:\", input_texts[seq_index])\n",
        "    print(\"Decoded sentence:\", decoded_sentence)\n"
      ],
      "execution_count": null,
      "outputs": []
    }
  ]
}